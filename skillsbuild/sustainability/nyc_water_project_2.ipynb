{
 "cells": [
  {
   "attachments": {},
   "cell_type": "markdown",
   "metadata": {},
   "source": [
    "# Visualizing Sustainability Insights using NYC Water and Energy Data\n",
    "In the previous project, we saw that NYC water consumption has decreased significantly over the past four decades in both absolute and per-capita quantities. However we also learned that the rate of improvement in conservation has slowed down.\n",
    "\n",
    "Your project now is to identify focus areas for the next water conservation campaign by looking in detail at consumption records that large buildings in NYC have provided each year since 2010. You will look for large water usage by considering the location (borough), building use, occupancy, size and electricity usage.\n",
    "\n",
    "In our previous project, we were presented with a data set that was easily visualized - all the columns were relevant and it had clean data.  In this project, we're going to work with more \"raw\" data sets that will need to be cleaned, combined and then transformed to produce visualizations that can help us answer the following questions:\n",
    "\n",
    "- Is there a relationship between electricity consumption and water consumption? \n",
    "    - Is there a general correlation?\n",
    "    - Are there specific correlations based on building type?\n",
    "- Which categories of buildings consume the most water?\n",
    "    - Is there a significant difference in consumption per building type based on the borough it is in?\n",
    "    - For these categories, how has their consumption changed in the past decade? \n",
    "- Based on your analysis, where do you think the city should focus its conservation efforts?\n",
    "\n",
    "> If you are not already in a Jupyter notebook environment, you can launch this notebook in an online JupyterLab session hosted by mybinder.org:\n",
    "> \n",
    "> https://mybinder.org/v2/gh/intersective/binder-base/trunk?urlpath=git-pull%3Frepo%3Dhttps%253A%252F%252Fgithub.com%252Fintersective%252Fdata-capstones%26urlpath%3Dlab%252Ftree%252Fdata-capstones%252Fskillsbuild%252Fsustainability%252Fnyc_water_project_2.ipynb%26branch%3Dtrunk"
   ]
  },
  {
   "attachments": {},
   "cell_type": "markdown",
   "metadata": {},
   "source": [
    "First, let's set up our workbook with the necessary python libraries."
   ]
  },
  {
   "cell_type": "code",
   "execution_count": null,
   "metadata": {},
   "outputs": [],
   "source": [
    "import pandas as pd\n",
    "import numpy as np\n",
    "import nbformat\n",
    "import cufflinks as cf\n",
    "import plotly.express as px\n",
    "import plotly.offline as py\n",
    "import plotly.graph_objs as go\n",
    "cf.go_offline() # required to use plotly offline (no account required).\n",
    "py.init_notebook_mode() # graphs charts inline (IPython)."
   ]
  },
  {
   "attachments": {},
   "cell_type": "markdown",
   "metadata": {},
   "source": [
    "Now let's access our data source. NYC's Open Data initiative makes data sets available via their simple SOCRATA API system. You can get all of the data in JSON format, or you can pre-filter the data.\n",
    "\n",
    "This data set has over 150 columns, most of which are not needed for this project. We've selected a subset of the columns to start with, which will make obtaining the data more efficient. Let's print out the API URL - we can click on this and see the raw data. Let's also look at what data types python thinks we have for each column."
   ]
  },
  {
   "cell_type": "code",
   "execution_count": null,
   "metadata": {},
   "outputs": [],
   "source": [
    "data2013 = 'https://data.cityofnewyork.us/resource/yr5p-wjer.json'\n",
    "desiredColumns13 = 'property_id,year_ending,borough,postcode,occupancy,primary_property_type_epa,water_use_all_water_sources,indoor_water_use_all_water,site_energy_use_kbtu'\n",
    "data2022 = 'https://data.cityofnewyork.us/resource/7x5e-2fxh.json'\n",
    "desiredColumns22 = 'property_id,year_ending,borough,property_gfa_calculated,postal_code,occupancy,primary_property_type,water_use_all_water_sources,indoor_water_use_all_water,site_energy_use_kbtu'\n",
    "dataUrl = data2022 + '?$limit=60000&$select=' + desiredColumns22\n",
    "print(dataUrl)\n",
    "data = pd.read_json(dataUrl)\n",
    "print(data.shape)\n",
    "data.dtypes"
   ]
  },
  {
   "attachments": {},
   "cell_type": "markdown",
   "metadata": {},
   "source": [
    "Oops - we see that the water and energy use columns are objects, not float values, which will cause problems. This is because some rows have \"Not Available\" as a value instead of a number. So let's fix that now."
   ]
  },
  {
   "cell_type": "code",
   "execution_count": null,
   "metadata": {},
   "outputs": [],
   "source": [
    "# let's fix the data type of the water_use_all_water_sources column - this will also remove all the \"Not Available\" values\n",
    "data.water_use_all_water_sources = pd.to_numeric(data.water_use_all_water_sources, errors = 'coerce')\n",
    "\n",
    "# now let's fix the data type of the indoor_water_use_all_water column\n",
    "data.indoor_water_use_all_water = pd.to_numeric(data.indoor_water_use_all_water, errors = 'coerce')\n",
    "\n",
    "# now let's fix the data type of the site_energy_use_kbtu column\n",
    "data.site_energy_use_kbtu = pd.to_numeric(data.site_energy_use_kbtu, errors = 'coerce')\n",
    "\n",
    "# now let's fix the data type of the site_energy_use_kbtu column\n",
    "data.property_gfa_calculated = pd.to_numeric(data.property_gfa_calculated, errors = 'coerce')\n",
    "\n",
    "data.dtypes"
   ]
  },
  {
   "attachments": {},
   "cell_type": "markdown",
   "metadata": {},
   "source": [
    "Let's do a simple bar chart that shows water usage by borough."
   ]
  },
  {
   "cell_type": "code",
   "execution_count": null,
   "metadata": {},
   "outputs": [],
   "source": [
    "\n",
    "# now get the usage by borough. We need to group the data by borough, summing up the values in the \"water_use_all_water_sources\" column\n",
    "# we'll also sort the data in descending order.\n",
    "usage_by_borough = data.groupby('borough').water_use_all_water_sources.sum().sort_values(ascending=False)\n",
    "\n",
    "# now plot\n",
    "usage_by_borough.iplot(kind='bar', title='Water Usage')\n"
   ]
  },
  {
   "attachments": {},
   "cell_type": "markdown",
   "metadata": {},
   "source": [
    "While it's great to be able to plot a chart with a single line of code, this chart does not look very nice and also doesn't follow best practices. The chart is too wide, max aspect ratio for a bar chart should be 1:1.5 in otherwords the dimensions should be 600px high by 900 wide for example\n",
    "-\tThe title should be centred and be more descriptive “2022 water usage by NYC Borough” \n",
    "-\tThe X and Y axis have no labels\n",
    "-\tThe column colours are all the same, Manhattan is more distinctive. Let's put Manhattan in dark blue and all the rest in medium grey \n",
    "\n",
    "Here's more robust code that implements these formatting changes:"
   ]
  },
  {
   "cell_type": "code",
   "execution_count": null,
   "metadata": {},
   "outputs": [],
   "source": [
    "filtered = data[['borough', 'water_use_all_water_sources']]\n",
    "usage_by_borough = filtered.groupby('borough').sum(['water_use_all_water_sources']).sort_values(by='water_use_all_water_sources', ascending=False).reset_index().rename(columns={0: \"borough\"})\n",
    "\n",
    "colors = ['lightslategray',] * 5\n",
    "colors[0] = 'blue'\n",
    "usage = go.Bar(\n",
    "    x=usage_by_borough.borough,\n",
    "    y=usage_by_borough.water_use_all_water_sources,\n",
    "    marker_color=colors\n",
    ")\n",
    "layout = go.Layout(\n",
    "        width=900,\n",
    "        height=600,\n",
    "        xaxis=dict(title_text=\"Borough\", color=\"slategray\"),\n",
    "        yaxis=dict(title_text=\"Water Usage kgal\", color=\"slategray\"),\n",
    "        template='simple_white',\n",
    "        title=dict(text=\"2022 water usage by NYC Borough\", x=.5),\n",
    "        font=dict(family=\"Rockwell\"),\n",
    "        title_font=dict(size=24),\n",
    ")\n",
    "fig = go.Figure(data=usage, layout=layout, skip_invalid=False)\n",
    "fig\n"
   ]
  },
  {
   "cell_type": "code",
   "execution_count": null,
   "metadata": {},
   "outputs": [],
   "source": [
    "# now let's compare indoor vs outdoor water sources. We don't explicitly have outdoor water\n",
    "# so we need to create the column\n",
    "\n",
    "# we don't need all the other columns for this analysis - so let's just take the columns we need\n",
    "filtered = data[['borough', 'water_use_all_water_sources', 'indoor_water_use_all_water']]\n",
    "\n",
    "# remove unlabeled boroughs, rows without water metrics\n",
    "filtered = filtered[~filtered.borough.isna() & ~filtered['water_use_all_water_sources'].isna()  & ~filtered['indoor_water_use_all_water'].isna()]\n",
    "\n",
    "# let's check to see how many rows we filtered... we started with 13k\n",
    "filtered.shape"
   ]
  },
  {
   "attachments": {},
   "cell_type": "markdown",
   "metadata": {},
   "source": [
    "10k of the rows in this set don't have complete water usage data. But 19k rows remaining is still good for trends."
   ]
  },
  {
   "cell_type": "code",
   "execution_count": null,
   "metadata": {},
   "outputs": [],
   "source": [
    "\n",
    "# let's group by borough and sum the water_use_all_water_sources and indoor_water_use_all_water columns\n",
    "usage_by_borough = filtered.groupby('borough').sum(['water_use_all_water_sources', 'indoor_water_use_all_water']).sort_values(by='water_use_all_water_sources', ascending=False)\n",
    "\n",
    "# now let's create a new column for outdoor usage by subtracting indoor from the total\n",
    "usage_by_borough['outdoor_water_use_all_water'] = (usage_by_borough.water_use_all_water_sources - usage_by_borough.indoor_water_use_all_water)\n",
    "\n",
    "# now let's create a stacked bar graph with the indoor & outdoor usage per borough\n",
    "# the \"text\" parameter calculates the relative % and puts that as an additional text labelw\n",
    "colors = ['lightslategray',] * 5\n",
    "colors[0] = 'blue'\n",
    "indoor = go.Bar(\n",
    "    x = usage_by_borough.index,\n",
    "    y = usage_by_borough['indoor_water_use_all_water'],\n",
    "    name = 'Indoor Usage', \n",
    "    text=(100 * usage_by_borough['indoor_water_use_all_water'] / usage_by_borough['water_use_all_water_sources']).apply(lambda x: '{0:1.2f}%'.format(x)),\n",
    "    marker_color=colors \n",
    ")\n",
    "outdoor = go.Bar(\n",
    "    x=usage_by_borough.index, \n",
    "    y=usage_by_borough['outdoor_water_use_all_water'],\n",
    "    name=\"Outdoor Usage\",\n",
    "    text=(100 * usage_by_borough['outdoor_water_use_all_water'] / usage_by_borough['water_use_all_water_sources']).apply(lambda x: '{0:1.2f}%'.format(x)),\n",
    ")\n",
    "graphdata = [indoor, outdoor]\n",
    "layout = go.Layout(\n",
    "        width=900,\n",
    "        height=600,\n",
    "        xaxis=dict(title_text=\"Borough\", color=\"slategray\"),\n",
    "        yaxis=dict(title_text=\"Water Usage kgal\", color=\"slategray\"),\n",
    "        template='simple_white',\n",
    "        title=dict(text=\"2022 water usage by NYC Borough\", x=.5),\n",
    "        font=dict(family=\"Rockwell\"),\n",
    "        title_font=dict(size=24),\n",
    "        barmode=\"stack\"\n",
    ")\n",
    "\n",
    "fig = go.Figure(data=graphdata, layout=layout)\n",
    "fig"
   ]
  },
  {
   "attachments": {},
   "cell_type": "markdown",
   "metadata": {},
   "source": [
    "This graph tells us that the distinction between indoor usage and overall usage is not terribly valuable in this data set - even the \"complete\" data is clearly not accurate, as it's unlikely there is 0 outdoor usage in the bronx. So for now we will just focus on overall water consumption and add back in the rows with missing indoor stats.\n",
    "\n",
    "Next let's look at energy consumption to see if there's a correlation to water consumption. For this analysis, we'll create a scatter plot diagram of Water vs Energy usage grouped by Borough."
   ]
  },
  {
   "cell_type": "code",
   "execution_count": null,
   "metadata": {},
   "outputs": [],
   "source": [
    "# we don't need all the other columns for this analysis - so let's just take the columns we need\n",
    "filtered = data[['borough', 'water_use_all_water_sources', 'site_energy_use_kbtu']]\n",
    "\n",
    "# remove unlabeled boroughs, rows without water metrics\n",
    "filtered = filtered[~filtered.borough.isna() & ~filtered.water_use_all_water_sources.isna() & ~filtered.site_energy_use_kbtu.isna()]\n",
    "\n",
    "# how many rows?\n",
    "filtered.shape\n"
   ]
  },
  {
   "cell_type": "code",
   "execution_count": null,
   "metadata": {},
   "outputs": [],
   "source": [
    "\n",
    "# let's group by borough and sum the water_use_all_water_sources and indoor_water_use_all_water columns\n",
    "usage_by_borough = filtered.groupby('borough').sum(['water_use_all_water_sources', 'site_energy_use_kbtu']).sort_values(by='water_use_all_water_sources', ascending=False)\n",
    "\n",
    "# now let's create a combo graph with the water usage per borough as a bar and the energy as a line\n",
    "water = go.Scatter(\n",
    "    y = usage_by_borough['site_energy_use_kbtu'],\n",
    "    x = usage_by_borough['water_use_all_water_sources'],\n",
    "    text=usage_by_borough.index,\n",
    "    mode='markers',\n",
    "    marker_size=20,\n",
    "    name = 'Water Usage', \n",
    "\n",
    ")\n",
    "layout = go.Layout(\n",
    "        width=900,\n",
    "        height=600,\n",
    "        xaxis=dict(title_text=\"Water Usage kgal\", color=\"slategray\"),\n",
    "        yaxis=dict(title_text=\"Energy Usage kbtu\", color=\"slategray\"),\n",
    "        template='simple_white',\n",
    "        title=dict(text=\"2022 water usage vs energy usage by NYC Borough\", x=.5),\n",
    "        font=dict(family=\"Rockwell\"),\n",
    "        title_font=dict(size=24),\n",
    ")\n",
    "\n",
    "graphdata = [water]\n",
    "fig = go.Figure(data=graphdata, layout=layout)\n",
    "fig"
   ]
  },
  {
   "attachments": {},
   "cell_type": "markdown",
   "metadata": {},
   "source": [
    "Looks like there's a linear relationship between water and energy usage. Let's draw a trendline using an ordinary least-squares linear regression model. We will need to switch to plot.ly express for this, as the graph_objects library doesn't have built in trendlines."
   ]
  },
  {
   "cell_type": "code",
   "execution_count": null,
   "metadata": {},
   "outputs": [],
   "source": [
    "fig = px.scatter(\n",
    "    graphdata, \n",
    "    y = usage_by_borough['site_energy_use_kbtu'],\n",
    "    x = usage_by_borough['water_use_all_water_sources'], \n",
    "    trendline=\"ols\",\n",
    "    title='Water vs Energy Usage by Borough',\n",
    "    labels={'x':'Water Use (all sources)', 'y':'Energy Use (kBTU)'}\n",
    ")\n",
    "fig.update_layout({\n",
    "    'width': 900,\n",
    "    'height':600,\n",
    "    'plot_bgcolor': 'rgba(255, 255, 255, 0)',\n",
    "    'paper_bgcolor': 'rgba(255, 255, 255, 255)',\n",
    "    'font': dict(family=\"Rockwell\", color='slategray'),\n",
    "    'title_font':dict(size=24, family=\"Rockwell\",color='black'),\n",
    "    'title_x':0.5,\n",
    "    'autosize':True,\n",
    "    'xaxis': dict(\n",
    "        visible=True,\n",
    "     \n",
    "    ),\n",
    "    'yaxis': dict(\n",
    "        visible=True,\n",
    "      \n",
    "    )\n",
    "})\n",
    "fig"
   ]
  },
  {
   "attachments": {},
   "cell_type": "markdown",
   "metadata": {},
   "source": [
    "This graph doesn't tell us as much as it looks like it does, because it's not adjusted for population.\n",
    "\n",
    "What we need to do is adjust the data series based on occupancy and/or population. We don't have population statistics in this data set but we do have occupancy."
   ]
  },
  {
   "cell_type": "code",
   "execution_count": null,
   "metadata": {},
   "outputs": [],
   "source": []
  },
  {
   "cell_type": "code",
   "execution_count": null,
   "metadata": {},
   "outputs": [],
   "source": [
    "# we don't need all the other columns for this analysis - so let's just take the columns we need\n",
    "filtered = data[['borough', 'water_use_all_water_sources', 'site_energy_use_kbtu', 'occupancy']]\n",
    "\n",
    "# remove unlabeled boroughs, rows without metrics\n",
    "filtered = filtered[~filtered.borough.isna() & ~filtered.occupancy.isna() & ~filtered.water_use_all_water_sources.isna() & ~filtered.site_energy_use_kbtu.isna()]\n",
    "\n",
    "# how many rows?\n",
    "filtered.shape"
   ]
  },
  {
   "cell_type": "code",
   "execution_count": null,
   "metadata": {},
   "outputs": [],
   "source": [
    "# graph\n",
    "# let's group by borough and sum the water_use_all_water_sources and indoor_water_use_all_water columns\n",
    "# usage_by_borough = filtered.groupby('borough').sum(['percap_water', 'percap_energy']).sort_values(by='percap_water', ascending=False)\n",
    "usage_by_borough = filtered.groupby('borough').sum(['water_use_all_water_sources', 'site_energy_use_kbtu', 'occupancy']).reset_index()\n",
    "usage_by_borough['percap_water'] = usage_by_borough['water_use_all_water_sources'] / usage_by_borough['occupancy']\n",
    "usage_by_borough['percap_energy'] = usage_by_borough['site_energy_use_kbtu'] / usage_by_borough['occupancy']\n",
    "usage_by_borough['combined'] = usage_by_borough['percap_water'] + (usage_by_borough['percap_energy'] / 10000)\n",
    "usage_by_borough['ranked'] = usage_by_borough['combined'].rank()\n",
    "usage_by_borough['size'] = usage_by_borough['occupancy'].rank()\n",
    "usage_by_borough = usage_by_borough.sort_values('ranked', ascending=False)\n",
    "# let's look at the data set now\n",
    "usage_by_borough"
   ]
  },
  {
   "attachments": {},
   "cell_type": "markdown",
   "metadata": {},
   "source": [
    "These numbers look reasonable and in roughly in the same ranges, so let's graph to see if anything jumps out at us."
   ]
  },
  {
   "cell_type": "code",
   "execution_count": null,
   "metadata": {},
   "outputs": [],
   "source": [
    "\n",
    "# make sure x & y axis starts at 0!\n",
    "water = go.Scatter(\n",
    "    y = usage_by_borough['percap_energy'],\n",
    "    x = usage_by_borough['percap_water'],\n",
    "    text=usage_by_borough['borough'],\n",
    "    mode='markers',\n",
    "    marker=dict(\n",
    "        size=usage_by_borough['size']  *  20,\n",
    "    ),\n",
    "    name = 'Borough', \n",
    "    showlegend=True\n",
    ")\n",
    "\n",
    "layout = go.Layout(\n",
    "        width=900,\n",
    "        height=600,\n",
    "        xaxis=dict(title_text=\"Water Usage kgal\", color=\"slategray\"),\n",
    "        yaxis=dict(title_text=\"Energy Usage kbtu\", color=\"slategray\"),\n",
    "        template='simple_white',\n",
    "        title=dict(text=\"2022 water usage vs energy usage by NYC Borough\", x=.5),\n",
    "        font=dict(family=\"Rockwell\"),\n",
    "        title_font=dict(size=24),\n",
    ")\n",
    "\n",
    "graphdata = [water]\n",
    "fig = go.Figure(data=graphdata, layout=layout)\n",
    "fig.show()\n",
    "\n"
   ]
  },
  {
   "attachments": {},
   "cell_type": "markdown",
   "metadata": {},
   "source": [
    "OK - this is interesting - we can see that Staten Island is an outlier in terms of per-capita water and energy usage. We'll want to dig into that more later. But for now we can still solve some issues with this graph. \n",
    "\n",
    "1. The x and y axis don't start at 0 - this creates a distorted sense of scale.\n",
    "1. All the boroughs are the same color - we should highlight the outlier in blue and make the rest gray.\n",
    "\n",
    "As noted before, charting for the purpose of Exploratory Data Analysis (EDA) is different than charting for the purpose of communication. When formatting a chart for presentation, we'll often need to use very granular charting code with \"hardcoded\" values, such as calling out a particular series. To clean up this chart, our charting code is going to need to deal with each bubble plot individually. "
   ]
  },
  {
   "cell_type": "code",
   "execution_count": null,
   "metadata": {},
   "outputs": [],
   "source": [
    "colors = ['lightslategray',] * 5\n",
    "colors[0] = 'blue'\n",
    "\n",
    "import plotly.graph_objects as go\n",
    "fig = go.Figure(data=go.Scatter(\n",
    "    x=usage_by_borough.query(\"borough == 'STATEN IS'\")['percap_water'],\n",
    "    y=usage_by_borough.query(\"borough == 'STATEN IS'\")['percap_energy'],\n",
    "    name=\"Staten Island\",\n",
    "    mode='markers',\n",
    "    marker=dict(\n",
    "        size=usage_by_borough.query(\"borough == 'STATEN IS'\")['size']  *  20,\n",
    "        color=colors[0]\n",
    "    )\n",
    "))\n",
    "\n",
    "boroughs = [\"MANHATTAN\", \"BRONX\", \"BROOKLYN\", \"QUEENS\"]\n",
    "for borough in boroughs: \n",
    "    fig.add_trace(go.Scatter(\n",
    "        x = usage_by_borough.query(\"borough == '\" + borough + \"'\")['percap_water'],\n",
    "        y = usage_by_borough.query(\"borough == '\" + borough + \"'\")['percap_energy'],\n",
    "        name = borough,\n",
    "        mode='markers',\n",
    "        marker=dict(\n",
    "            size=usage_by_borough.query(\"borough  == '\" + borough + \"'\")['size']  *  20,\n",
    "            color=colors[1]\n",
    "        ),\n",
    "    ))\n",
    "\n",
    "annotations = [\n",
    "    dict(\n",
    "        x=x, \n",
    "        y=y,\n",
    "        text=z.title(), # Some conditional to define outliers\n",
    "        showarrow=True,\n",
    "        xshift = -2 * size,\n",
    "        yshift = 10 * size,\n",
    "        # xanchor='center',  # Position of text relative to x axis (left/right/center)\n",
    "        # yanchor='middle',  # Position of text relative to y axis (top/bottom/middle)\n",
    "    ) for x, y, z, size in zip(usage_by_borough['percap_water'], usage_by_borough['percap_energy'], usage_by_borough['borough'], usage_by_borough['size'])\n",
    "]\n",
    "\n",
    "fig.update_layout(go.Layout(\n",
    "        xaxis=dict(title_text=\"Per-Capita Water Usage kgal\", color=\"slategray\"),\n",
    "        yaxis=dict(title_text=\"Per-Capita Energy Usage kbtu\", color=\"slategray\"),\n",
    "        title=dict(text=\"Per-Capita 2022 Water vs Energy Usage by NYC Borough\", x=.5),\n",
    "        font=dict(family=\"Rockwell\"),\n",
    "        title_font=dict(size=24),\n",
    "        annotations=annotations,\n",
    "        showlegend=False\n",
    "))\n",
    "fig.update_yaxes(rangemode=\"tozero\")\n",
    "fig.update_xaxes(rangemode=\"tozero\")\n",
    "fig.show()"
   ]
  },
  {
   "attachments": {},
   "cell_type": "markdown",
   "metadata": {},
   "source": [
    "Oh - the chart seems to have lost some of its formatting! Can you go back and fix these issues:\n",
    "- apply the `simple_white` theme so that the background is white\n",
    "- set the width and height so the aspect ratio is 1.5:1 (hint: 900x600)\n",
    "\n",
    "This looks interesting, but really doesn't tell us a lot. It suggests that Staten Island is very inefficient in regard to energy and water usage relative to the other boroughs. But the sample size for Staten Island is small and the other factor is that this data set only looks at large buildings. Staten Island is more residential amd single or dual family homes don't appear in the data.\n",
    "\n",
    "It is worth exploring Brooklyn and the Bronx's relative energy efficiency, as well as the relatively high per-capita water usage in the Bronx. \n",
    "\n",
    "# Exploring the data by property type\n",
    "To further understand this we will need to unpack the data by property type."
   ]
  },
  {
   "cell_type": "code",
   "execution_count": null,
   "metadata": {},
   "outputs": [],
   "source": [
    "# we don't need all the other columns for this analysis - so let's just take the columns we need\n",
    "filtered = data[['primary_property_type', 'water_use_all_water_sources', 'site_energy_use_kbtu', 'occupancy']]\n",
    "\n",
    "# remove unlabeled boroughs, rows without metrics\n",
    "filtered = filtered[~filtered.primary_property_type.isna() & ~filtered.occupancy.isna() & ~filtered.water_use_all_water_sources.isna() & ~filtered.site_energy_use_kbtu.isna()]\n",
    "\n",
    "# how many rows?\n",
    "filtered.shape\n"
   ]
  },
  {
   "cell_type": "code",
   "execution_count": null,
   "metadata": {},
   "outputs": [],
   "source": [
    "# graph\n",
    "# let's group by borough and sum the water_use_all_water_sources and indoor_water_use_all_water columns\n",
    "# usage_by_borough = filtered.groupby('borough').sum(['percap_water', 'percap_energy']).sort_values(by='percap_water', ascending=False)\n",
    "usage_by_property = filtered.groupby('primary_property_type').sum(['water_use_all_water_sources', 'site_energy_use_kbtu', 'occupancy'])\n",
    "usage_by_property['percap_water'] = usage_by_property['water_use_all_water_sources'] / usage_by_property['occupancy']\n",
    "usage_by_property['percap_energy'] = usage_by_property['site_energy_use_kbtu'] / usage_by_property['occupancy']\n",
    "\n",
    "# let's look at the data set now - first by overall water usage\n",
    "usage_by_property.nlargest(10, 'water_use_all_water_sources')\n"
   ]
  },
  {
   "cell_type": "code",
   "execution_count": null,
   "metadata": {},
   "outputs": [],
   "source": [
    "# now by overall energy usage\n",
    "usage_by_property.nlargest(10, 'site_energy_use_kbtu')"
   ]
  },
  {
   "attachments": {},
   "cell_type": "markdown",
   "metadata": {},
   "source": [
    "There are several property types that are common to both lists. Apartment blocks are the top of each; but they also represent 10x the numbrer of people. Offices, Hotels, K-12 schools and wastewater treatment are all high up as well.\n",
    "\n",
    "Let's take the top 20 by overall water usage and rank them by per-capita usage:"
   ]
  },
  {
   "cell_type": "code",
   "execution_count": null,
   "metadata": {},
   "outputs": [],
   "source": [
    "usage_by_property.nlargest(20,'water_use_all_water_sources').sort_values('percap_water', ascending=False)"
   ]
  },
  {
   "attachments": {},
   "cell_type": "markdown",
   "metadata": {},
   "source": [
    "And we can do the same for energy:"
   ]
  },
  {
   "cell_type": "code",
   "execution_count": null,
   "metadata": {},
   "outputs": [],
   "source": [
    "usage_by_property.nlargest(20,'site_energy_use_kbtu').sort_values('percap_energy', ascending=False)"
   ]
  },
  {
   "attachments": {},
   "cell_type": "markdown",
   "metadata": {},
   "source": [
    "There's a lot to see in just the numbers. We can see that a few property types are large consumers of both water and energy no matter how you slice it - overall or per-capita. Wastewater treatment, Hospitals, Hotels, Medical Offices, Offices,  Senior Care Communities.\n",
    "\n",
    "This gives us our first idea as to a focus area - healthcare seems to be a very water and energy intensive field, and will only grow as our population ages and lives longer. Thinking about conservation that targets the medical sector is great.\n",
    "\n",
    "It also flags up wastewater treatment as an area that would benefit from innovation that improves efficiencies.\n",
    "\n",
    "Finally, if you're wondering about the high per-capita energy usage in Prisons, you should know there is no death penalty in NY state, so it is not because of electric chairs.\n",
    "\n",
    "Let's rank facility types from worst to best by the following formula that prioritizes total usage of water and electricity but also considers per-capita usage\n",
    "\n",
    "rank for total water + rank for total energy + 50% (rank for per capita water + rank for per capita energy)\n",
    "\n",
    "We'll create a ranking column and sort by that."
   ]
  },
  {
   "cell_type": "code",
   "execution_count": null,
   "metadata": {},
   "outputs": [],
   "source": [
    "usage_by_property = filtered.groupby('primary_property_type').sum(['water_use_all_water_sources', 'site_energy_use_kbtu', 'occupancy'])\n",
    "usage_by_property['percap_water'] = usage_by_property['water_use_all_water_sources'] / usage_by_property['occupancy']\n",
    "usage_by_property['percap_energy'] = usage_by_property['site_energy_use_kbtu'] / usage_by_property['occupancy']\n",
    "usage_by_property['water_rank'] = usage_by_property.percap_water.rank()\n",
    "usage_by_property['energy_rank'] = usage_by_property.percap_energy.rank()\n",
    "usage_by_property['combined'] = usage_by_property['water_rank'] + usage_by_property['energy_rank']\n",
    "usage_by_property['ranked'] = usage_by_property['combined'].rank(ascending=False)\n",
    "usage_by_property['size'] = ((usage_by_property['water_use_all_water_sources'] / 1000) + (usage_by_property['site_energy_use_kbtu'] / 1000000))\n",
    "usage_by_property.reset_index().nsmallest(20, 'ranked')"
   ]
  },
  {
   "attachments": {},
   "cell_type": "markdown",
   "metadata": {},
   "source": [
    "Now that we have this data ranked, let's come up with a visualization that helps us understand the energy and water utility of these facilities. "
   ]
  },
  {
   "cell_type": "code",
   "execution_count": null,
   "metadata": {},
   "outputs": [],
   "source": [
    "ranked = usage_by_property.nsmallest(10, 'ranked')\n",
    "fig = px.scatter(data_frame=ranked,\n",
    "                 x=\"percap_water\",\n",
    "                 y=\"percap_energy\",\n",
    "                 size=\"size\",\n",
    "                 color=ranked.index,\n",
    "                 text=ranked.index,\n",
    "                 width=900,\n",
    "                 height=600,\n",
    "                 title=\"Per-Capita Energy and Water Usage by Property Type - size is overall usage\",\n",
    "                 labels={\"percap_water\": \"Water Use (Per-Capita)\",\n",
    "                         \"percap_energy\": \"Energy Use (Per-Capita)\",\n",
    "                         \"occupancy\": \"Occupancy\",\n",
    "                         \"primary_property_type\": \"Property Type\",\n",
    "                         \"size\": \"Overall usage of energy and water\"},\n",
    "                 log_x=False,\n",
    "                 log_y=False)\n",
    "\n",
    "fig.update_traces(textposition=\"top center\")\n",
    "fig.show()\n"
   ]
  },
  {
   "attachments": {},
   "cell_type": "markdown",
   "metadata": {},
   "source": [
    "This graph is interesting but ugly and confusing. Let's use visualization best-practices to clean it up.\n",
    "\n",
    "1. Let's reduce the # of items to 5 - processing 10 is too much, especially as the smaller 5 are clustered in the bottom left.\n",
    "1. Let's improve labelling, fonts, colors and set the background to white."
   ]
  },
  {
   "cell_type": "code",
   "execution_count": null,
   "metadata": {},
   "outputs": [],
   "source": [
    "colors = ['lightslategray',] * 10\n",
    "# we will highlight the first two in blue as they are the largest and most interesting data points\n",
    "colors[0] = 'blue'\n",
    "colors[1] = 'blue'\n",
    "\n",
    "ranked = usage_by_property.nsmallest(5, 'ranked')\n",
    "\n",
    "fig = go.Figure()\n",
    "\n",
    "properties = ranked.index\n",
    "count = 0\n",
    "for property in properties: \n",
    "    fig.add_trace(go.Scatter(\n",
    "        x = ranked.query(\"primary_property_type == '\" + property + \"'\")['percap_water'],\n",
    "        y = ranked.query(\"primary_property_type == '\" + property + \"'\")['percap_energy'],\n",
    "        name = property,\n",
    "        mode='markers',\n",
    "        marker=dict(\n",
    "            size=ranked.query(\"primary_property_type  == '\" + property + \"'\")['size'] / 100,\n",
    "            color=colors[count]\n",
    "        ),\n",
    "    ))\n",
    "    count+=1\n",
    "\n",
    "annotations = [\n",
    "    dict(\n",
    "        # xref=\"x\", yref='y',\n",
    "        axref=\"pixel\", ayref=\"pixel\",\n",
    "        x = x,\n",
    "        y = y,\n",
    "        ax = (size / 200),\n",
    "        ay = -20 - (size / 200),\n",
    "        text=z.title(), # Some conditional to define outliers\n",
    "        showarrow=True,\n",
    "        standoff=size / 200,\n",
    "        xshift = 0, #2 * size / 400,\n",
    "        yshift = 0, # 20 + (size / 200),\n",
    "        xanchor='center',  # Position of text relative to x axis (left/right/center)\n",
    "        yanchor='middle',  # Position of text relative to y axis (top/bottom/middle)\n",
    "    ) for x, y, z, size in zip(ranked['percap_water'], ranked['percap_energy'], properties, ranked['size'])\n",
    "]\n",
    "\n",
    "fig.update_layout(go.Layout(\n",
    "        width=900,\n",
    "        height=600,\n",
    "        xaxis=dict(title_text=\"Per-Capita Water Usage kgal\", color=\"slategray\"),\n",
    "        yaxis=dict(title_text=\"Per-Capita Energy Usage kbtu\", color=\"slategray\"),\n",
    "        template='simple_white',\n",
    "        title=dict(text=\"Per-Capita 2022 Water vs Energy Usage by Property Type\", x=.5),\n",
    "        font=dict(family=\"Rockwell\"),\n",
    "        title_font=dict(size=24),\n",
    "        annotations=annotations,\n",
    "        showlegend=False\n",
    "))\n",
    "fig.update_yaxes(rangemode=\"tozero\")\n",
    "fig.update_xaxes(rangemode=\"tozero\")\n",
    "fig.show()"
   ]
  },
  {
   "cell_type": "markdown",
   "metadata": {},
   "source": [
    "# Hospital Deep-Dive\n",
    "\n",
    "We can see that hospitals are a major user of energy per-capita. So let's filter our data set to just hospitals and look at the usage per borough:"
   ]
  },
  {
   "cell_type": "code",
   "execution_count": null,
   "metadata": {},
   "outputs": [],
   "source": [
    "# we don't need all the other columns for this analysis - so let's just take the columns we need\n",
    "filtered = data[['borough', 'primary_property_type', 'water_use_all_water_sources', 'site_energy_use_kbtu', 'occupancy', 'property_gfa_calculated']]\n",
    "\n",
    "# remove all rows that are not \"Hospitals\", unlabeled boroughs, rows without metrics\n",
    "filtered = filtered[filtered.primary_property_type.eq('Hospital (General Medical & Surgical)') & ~filtered.borough.isna() & ~filtered.occupancy.isna() & ~filtered.water_use_all_water_sources.isna() & ~filtered.site_energy_use_kbtu.isna()]\n",
    "\n",
    "# let's check the data\n",
    "filtered\n"
   ]
  },
  {
   "cell_type": "markdown",
   "metadata": {},
   "source": [
    "This is interesting - the occupancy value for almost every hospital is 100. That seems like an issue in data collection, because most hospitals in NYC have more than 100 beds, let alone 100 \"occupants\" at any time. Based on that fact, we shouldn't use the occupancy figure to calculate a per-capita usage of energy or water directly.\n",
    "\n",
    "Anticipating this, we added an extra column to the filtered data - property_gfa_calculated, which is an estimate of the gross square feet of property. Hospitals have reasonably similar designs and space utilization, so this could be a good proxy for the # of people in the hospital. Let's use this to create the same usage-by-borough graph as before, but just for hospitals, and using square feet instead of occupancy."
   ]
  },
  {
   "cell_type": "code",
   "execution_count": null,
   "metadata": {},
   "outputs": [],
   "source": [
    "# graph\n",
    "# let's group by borough and sum the water_use_all_water_sources and indoor_water_use_all_water columns\n",
    "# usage_by_borough = filtered.groupby('borough').sum(['percap_water', 'percap_energy']).sort_values(by='percap_water', ascending=False)\n",
    "usage_by_borough = filtered.groupby('borough').agg({'occupancy':'count', 'water_use_all_water_sources': 'sum', 'site_energy_use_kbtu': 'sum', 'property_gfa_calculated': 'sum'}).reset_index().rename(columns={'occupancy':'count'})\n",
    "usage_by_borough['persqf_water'] = usage_by_borough['water_use_all_water_sources'] / usage_by_borough['property_gfa_calculated']\n",
    "usage_by_borough['persqf_energy'] = usage_by_borough['site_energy_use_kbtu'] / usage_by_borough['property_gfa_calculated']\n",
    "usage_by_borough['combined'] = usage_by_borough['persqf_water'] + (usage_by_borough['persqf_energy'] / 10000)\n",
    "usage_by_borough['ranked'] = usage_by_borough['combined'].rank()\n",
    "usage_by_borough = usage_by_borough.sort_values('ranked', ascending=False)\n",
    "usage_by_borough\n"
   ]
  },
  {
   "cell_type": "code",
   "execution_count": null,
   "metadata": {},
   "outputs": [],
   "source": [
    "# THIS CODE INTENTIONALLY HAS AN ERROR - THE WRONG BUBBLE IS COLORED BLUE. FIX IT!\n",
    "\n",
    "colors = ['lightslategray',] * 5\n",
    "colors[0] = 'blue'\n",
    "\n",
    "import plotly.graph_objects as go\n",
    "fig = go.Figure(data=go.Scatter(\n",
    "    x=usage_by_borough.query(\"borough == 'MANHATTAN'\")['persqf_water'],\n",
    "    y=usage_by_borough.query(\"borough == 'MANHATTAN'\")['persqf_energy'],\n",
    "    name=\"Staten Island\",\n",
    "    mode='markers',\n",
    "    marker=dict(\n",
    "        size=usage_by_borough.query(\"borough == 'MANHATTAN'\")['count'] * 10,\n",
    "        color=colors[0]\n",
    "    )\n",
    "))\n",
    "\n",
    "boroughs = [\"STATEN IS\", \"BRONX\", \"BROOKLYN\", \"QUEENS\"]\n",
    "for borough in boroughs: \n",
    "    fig.add_trace(go.Scatter(\n",
    "        x = usage_by_borough.query(\"borough == '\" + borough + \"'\")['persqf_water'],\n",
    "        y = usage_by_borough.query(\"borough == '\" + borough + \"'\")['persqf_energy'],\n",
    "        name = borough,\n",
    "        mode='markers',\n",
    "        marker=dict(\n",
    "            size=usage_by_borough.query(\"borough  == '\" + borough + \"'\")['count'] * 10,\n",
    "            color=colors[1]\n",
    "        ),\n",
    "    ))\n",
    "\n",
    "annotations = [\n",
    "    dict(\n",
    "        x=x, \n",
    "        y=y,\n",
    "        text=z.title(), # Some conditional to define outliers\n",
    "        showarrow=True,\n",
    "        xshift = -2 * (size / 2),\n",
    "        yshift = 10 * (size / 2),\n",
    "        # xanchor='center',  # Position of text relative to x axis (left/right/center)\n",
    "        # yanchor='middle',  # Position of text relative to y axis (top/bottom/middle)\n",
    "    ) for x, y, z, size in zip(usage_by_borough['persqf_water'], usage_by_borough['persqf_energy'], usage_by_borough['borough'], usage_by_borough['count'])\n",
    "]\n",
    "\n",
    "fig.update_layout(go.Layout(\n",
    "        width=900,\n",
    "        height=600,\n",
    "        xaxis=dict(title_text=\"Per-Sq Ft Water Usage kgal/sqf\", color=\"slategray\"),\n",
    "        yaxis=dict(title_text=\"Per-Sq Ft Energy Usage kbtu/sqf\", color=\"slategray\"),\n",
    "        template='simple_white',\n",
    "        title=dict(text=\"Per-Sq Ft 2022 Water vs Energy Usage for Hospitals by NYC Borough <br><sup>Bubble size shows # of hospitals</sup>\", x=.5),\n",
    "        font=dict(family=\"Rockwell\"),\n",
    "        title_font=dict(size=24),\n",
    "        annotations=annotations,\n",
    "        showlegend=False\n",
    "))\n",
    "fig.update_yaxes(rangemode=\"tozero\")\n",
    "fig.update_xaxes(rangemode=\"tozero\")\n",
    "fig.show()"
   ]
  },
  {
   "cell_type": "markdown",
   "metadata": {},
   "source": [
    "Did you fix the chart so that Staten Island is blue instead of Manhattan? If not, go back and try again!\n",
    "\n",
    "We can see that for all the boroughs except Staten Island, the water and energy usage is roughly the same based on square feet of hospital space. However Staten Island is a complete outlier, using significantly more water and energy per square foot of hospital space than anywhere else in NYC. This would be worth exploring in greater detail.\n",
    "\n",
    "# Your Excersise\n",
    "\n",
    "Now it's your turn. Let's do the same analysis for Waste-Water treatment. You need to decide whether to use occupancy, square footage or some other factor for comparison. \n"
   ]
  }
 ],
 "metadata": {
  "kernelspec": {
   "display_name": "Python 3",
   "language": "python",
   "name": "python3"
  },
  "language_info": {
   "codemirror_mode": {
    "name": "ipython",
    "version": 3
   },
   "file_extension": ".py",
   "mimetype": "text/x-python",
   "name": "python",
   "nbconvert_exporter": "python",
   "pygments_lexer": "ipython3",
   "version": "3.11.4"
  },
  "orig_nbformat": 4
 },
 "nbformat": 4,
 "nbformat_minor": 2
}
