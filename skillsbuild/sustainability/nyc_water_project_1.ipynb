{
 "cells": [
  {
   "cell_type": "markdown",
   "metadata": {},
   "source": []
  },
  {
   "attachments": {},
   "cell_type": "markdown",
   "metadata": {},
   "source": [
    "# Welcome to Jupyter! \n",
    "What you are looking at is called a jupyter notebook. Notebooks like this are often used in data science as a way to teach and collaborate. They let you read about a challenge or technique, see and try running code step-by-step, make changes and see the results all on one page. \n",
    "\n",
    "You'll notice there are two types of page sections. Narrative, like this, is just for reading. Any code in here won't run. If you click on the narrative section, you'll enter edit mode. You can make notes for yourself here. Don't worry, nobody else can see your changes.\n",
    "\n",
    "Below, you'll see a simple block of code. You should see a little triangle arrow to the left of the code when your mouse hovers over the code block. If you click this arrow, you should see the result of the code (Hellow world!) print out below the code box.\n",
    "\n",
    "> If you are not already in a Jupyter notebook environment, you can launch this notebook in an online JupyterLab session hosted by mybinder.org:\n",
    ">\n",
    "> https://mybinder.org/v2/gh/intersective/binder-base/trunk?urlpath=git-pull%3Frepo%3Dhttps%253A%252F%252Fgithub.com%252Fintersective%252Fdata-capstones%26urlpath%3Dlab%252Ftree%252Fdata-capstones%252Fskillsbuild%252Fsustainability%252Fnyc_water_project_1.ipynb%26branch%3Dtrunk\n"
   ]
  },
  {
   "cell_type": "code",
   "execution_count": null,
   "metadata": {},
   "outputs": [],
   "source": [
    "text_variable='Hello world!' #creates a variable which contains specific text. You can change the text if you want.\n",
    "print(text_variable) #prints out the text stored in the variable text_variable."
   ]
  },
  {
   "cell_type": "markdown",
   "metadata": {},
   "source": [
    "Code blocks \"remember\" what happened in the previous code block, but only if the previous block \"ran\". For example, assuming you ran the above code, we can now run this next block of code that references `text_variable`. "
   ]
  },
  {
   "cell_type": "code",
   "execution_count": null,
   "metadata": {},
   "outputs": [],
   "source": [
    "print(text_variable + \" to you too\")"
   ]
  },
  {
   "cell_type": "markdown",
   "metadata": {},
   "source": [
    "This is important to remember - in these lessons it's very easy to forget to run a block which may cause later blocks to have errors. You can \"Run all\" which will start from the top and run every code block in order.\n",
    "\n",
    "If you want to learn more about how notebooks work, [here is a good introduction](../../../binder_intro.ipynb) which should open in a new tab within JupyterLab.\n",
    "\n",
    "Now let's get to work!\n",
    "\n",
    "# Redoing the Water Consumption in NYC Analysis in Python\n",
    "\n",
    "We're going to quickly redo the mini-project we previous did in google sheets (analyzing NYC water consumption from 1979-2022). This time, we'll do it all in Python using this notebook and a graphing library called plot.ly. This will be a \"warm-up\" to the real project - which is a much deeper dive into NYC water consumption.\n",
    "\n",
    "To start, we need to initialize our notebook with required python libaries. Just running this next code block will load up the libraries."
   ]
  },
  {
   "cell_type": "code",
   "execution_count": null,
   "metadata": {},
   "outputs": [],
   "source": [
    "%pip install pandas numpy cufflinks plotly\n",
    "import pandas as pd\n",
    "import numpy as np\n",
    "import cufflinks as cf\n",
    "import plotly.express as px\n",
    "import plotly.offline as py\n",
    "import plotly.graph_objs as go\n",
    "cf.go_offline() # required to use plotly offline (no account required).\n",
    "py.init_notebook_mode() # graphs charts inline (IPython).\n",
    "print(\"Imported!\")"
   ]
  },
  {
   "attachments": {},
   "cell_type": "markdown",
   "metadata": {},
   "source": [
    "Now let's access our data source. NYC's Open Data initiative makes data sets available via their simple SOCRATA API system. You can get all of the data in JSON format, or you can pre-filter the data.\n",
    "\n",
    "We're going to access the same data we did for the Google Charts project, but this time via the API. Return to the [NYC Open Data website](https://data.cityofnewyork.us/Environment/Water-Consumption-in-the-City-of-New-York/ia2d-e54m)"
   ]
  },
  {
   "cell_type": "code",
   "execution_count": null,
   "metadata": {},
   "outputs": [],
   "source": [
    "dataUrl = 'https://data.cityofnewyork.us/resource/ia2d-e54m.json'\n",
    "data = pd.read_json(dataUrl)\n",
    "print(\"Rows, Columns of data: \", data.shape)\n",
    "print(\"\\nData types of columns:\")\n",
    "data.dtypes"
   ]
  },
  {
   "attachments": {},
   "cell_type": "markdown",
   "metadata": {},
   "source": [
    "Let's recreate the simple chart of population by year that we did at the start of the google sheets project.\n",
    "\n",
    "We will use plot.ly library and their iplot renderer, which creates interactive graphs. Plot.ly combines line graphs and scatter plot graphs - a line graph is a connected scatter plot graph. "
   ]
  },
  {
   "cell_type": "code",
   "execution_count": null,
   "metadata": {},
   "outputs": [],
   "source": [
    "# we need to set up our data object, which configures plot.ly. There are many more options, as we will see shortly.\n",
    "graphData = [\n",
    "    go.Scatter(\n",
    "        x=data.year,\n",
    "        y=data.new_york_city_population\n",
    "    )\n",
    "]\n",
    "py.iplot(graphData)\n"
   ]
  },
  {
   "cell_type": "markdown",
   "metadata": {},
   "source": []
  },
  {
   "attachments": {},
   "cell_type": "markdown",
   "metadata": {},
   "source": [
    "While it's great to be able to plot a chart with a few lines of code, this chart does not look very nice and also doesn't follow best practices. The chart is too wide, max aspect ratio for a bar chart should be 1:1.5 in otherwords the dimensions should be 600px high by 900 wide for example\n",
    "-   There is no title. The title should be centred and descriptive \n",
    "-\tThe X and Y axis have no labels\n",
    "-   The background color is not white\n",
    "-   The Y axis starts at 7m instead of 0, distoring the graph and making growth seem greater than it actually was \n",
    "-   The aspect ratio is not 1.5:1 \n",
    "\n",
    "Here's more robust code that implements these formatting changes:"
   ]
  },
  {
   "cell_type": "code",
   "execution_count": null,
   "metadata": {},
   "outputs": [],
   "source": [
    "pop = go.Scatter(\n",
    "    x=data.year,                        # x-axis will be the year\n",
    "    y=data.new_york_city_population,    # y-axis will be the population\n",
    "    fill='tozeroy',                     # fill the area under the graph\n",
    ")\n",
    "layout = go.Layout(\n",
    "        template='simple_white',# use a white background\n",
    "        autosize=False,         # don't automatically size the graph\n",
    "        width=900,              # 900x600 is a 1.5:1 ratio\n",
    "        height=600,\n",
    "        font=dict(              # sets the font family for the whole graph\n",
    "            family=\"Rockwell\",\n",
    "            color=\"slategray\"\n",
    "        ),   \n",
    "        xaxis=dict(\n",
    "            title_text=\"Year\",  # the axis title\n",
    "            color=\"slategray\",  # the axis color\n",
    "            dtick=10,           # the step size of the axis, in this case 10 years\n",
    "            showgrid=False,     # don't show the major gridlines\n",
    "        ),\n",
    "        yaxis=dict(\n",
    "            title_text=\"Population\", \n",
    "            color=\"slategray\",\n",
    "            showgrid=True,      # we do want the y-axis major gridlines\n",
    "            rangemode=\"tozero\", # ensure the y-axis starts at 0\n",
    "            dtick=2500000       # set the tick size to 2.5m \n",
    "        ),\n",
    "        title=dict(\n",
    "            text=\"NYC Population from 1979-2022\", \n",
    "            x=.5                # this horizontally centers the title\n",
    "        ),\n",
    "        title_font=dict(        # lets us override the font size & color for the title\n",
    "            size=24,\n",
    "            color=\"darkslategray\"\n",
    "        ),\n",
    ")\n",
    "go.Figure(data=pop, layout=layout)\n",
    "\n"
   ]
  },
  {
   "cell_type": "markdown",
   "metadata": {},
   "source": [
    "This looks a lot like what we did in Google Sheets. The great part is we can easily reuse the formatting code for future graphs. Let's now transform our data and render the final exercise graph, where we show the percentage change since 1979 for population, consumption and per-capita consumption.\n",
    "\n",
    "First we'll need to create those additional columns in our data set. Note that there is a built in function called pct_change() but like our first attempt with Google Sheets, that function calculates the change between one row and the next. Which gives us the EKG type graph. So we are creating a custom function (lambda) that takes each row and applies the following math equation to it:\n",
    "`% = (current row / row 0) - 1`\n",
    "\n",
    "Which is another way of getting the percentage change between two rows. Note this value is expressed as a decimal and we'll need to format the axis accordingly!"
   ]
  },
  {
   "cell_type": "code",
   "execution_count": null,
   "metadata": {},
   "outputs": [],
   "source": [
    "# \n",
    "data['perc_change_population'] = data[['new_york_city_population']].apply(lambda x: x.div(x.iloc[0]).subtract(1))\n",
    "data['perc_change_consumption'] = data[['nyc_consumption_million_gallons_per_day']].apply(lambda x: x.div(x.iloc[0]).subtract(1))\n",
    "data['perc_change_percap'] = data[['per_capita_gallons_per_person_per_day']].apply(lambda x: x.div(x.iloc[0]).subtract(1))\n",
    "\n",
    "# show the new table\n",
    "data\n"
   ]
  },
  {
   "cell_type": "markdown",
   "metadata": {},
   "source": [
    "Now that we've transformed the data, let's graph it using all of our best practices!"
   ]
  },
  {
   "cell_type": "code",
   "execution_count": null,
   "metadata": {},
   "outputs": [],
   "source": [
    "colors = ['lightslategray',] * 5\n",
    "colors[0] = 'blue'\n",
    "population = go.Scatter(\n",
    "    x=data.year,                        # x-axis will be the year\n",
    "    y=data.perc_change_population,      # y-axis will be the population\n",
    "    name='% Change in Population',      # set the title of the series for the legend\n",
    "    line_color='slategray'              # set the color of the series line\n",
    ")\n",
    "\n",
    "consumption = go.Scatter(\n",
    "    x=data.year,                        # x-axis will be the year\n",
    "    y=data.perc_change_consumption,     # y-axis will be the population\n",
    "    name='% Change in Water<br>Consumption', # we add a <BR> into the title so it wraps onto two lines\n",
    "    line_color='royalblue'              # set the color of the series line\n",
    ")\n",
    "\n",
    "percap = go.Scatter(\n",
    "    x=data.year,                        # x-axis will be the year\n",
    "    y=data.perc_change_percap,          # y-axis will be the population\n",
    "    name='% Change in Per-Capita<br>Water Consumption', # we add a <BR> into the title so it wraps onto two lines\n",
    "    line_color='lightblue'              # set the color of the series line\n",
    "   \n",
    ")\n",
    "layout = go.Layout(\n",
    "        template='simple_white',# use a white background\n",
    "        autosize=False,         # don't automatically size the graph\n",
    "        width=900,              # 900x600 is a 1.5:1 ratio\n",
    "        height=600,\n",
    "        font=dict(              # sets the font family for the whole graph\n",
    "            family=\"Rockwell\",\n",
    "            color=\"slategray\"\n",
    "        ),   \n",
    "        xaxis=dict(\n",
    "            title_text=\"Year\",  # the axis title\n",
    "            color=\"slategray\",  # the axis color\n",
    "            dtick=10,           # the step size of the axis, in this case 10 years\n",
    "            showgrid=False,     # don't show the major gridlines\n",
    "        ),\n",
    "        yaxis=dict(\n",
    "            title_text=\"Percentage Change\", \n",
    "            color=\"slategray\",\n",
    "            showgrid=True,      # we do want the y-axis major gridlines\n",
    "            rangemode=\"tozero\", # ensure the y-axis starts at 0\n",
    "            dtick=.25,            # set the tick size to 25%\n",
    "            tickformat='.0%', # format as percentage\n",
    "        ),\n",
    "        title=dict(\n",
    "            text=\"NYC Water Consumption vs Population 1979-2022\", \n",
    "            x=.5                # this horizontally centers the title\n",
    "        ),\n",
    "        title_font=dict(        # lets us override the font size & color for the title\n",
    "            size=24,\n",
    "            color=\"darkslategray\"\n",
    "        ),\n",
    ")\n",
    "go.Figure(data=[population,consumption,percap], layout=layout)"
   ]
  },
  {
   "cell_type": "markdown",
   "metadata": {},
   "source": [
    "You've just quickly recreated the chart we made in Google Sheets, but this time using the power of Python and plot.ly. Now that you have the basics down, let's get into a much deeper data set. \n",
    "\n",
    "Follow [this link](nyc_water_project_2.ipynb) to go to the next workbook!"
   ]
  }
 ],
 "metadata": {
  "kernelspec": {
   "display_name": "Python 3",
   "language": "python",
   "name": "python3"
  },
  "language_info": {
   "codemirror_mode": {
    "name": "ipython",
    "version": 3
   },
   "file_extension": ".py",
   "mimetype": "text/x-python",
   "name": "python",
   "nbconvert_exporter": "python",
   "pygments_lexer": "ipython3",
   "version": "3.11.5"
  },
  "orig_nbformat": 4
 },
 "nbformat": 4,
 "nbformat_minor": 2
}
