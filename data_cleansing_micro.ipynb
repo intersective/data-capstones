{
 "cells": [
  {
   "cell_type": "code",
   "execution_count": null,
   "metadata": {},
   "outputs": [],
   "source": [
    "!pip install gspread\n",
    "import gspread\n",
    "credentials = {\n",
    "  \"type\": \"service_account\",\n",
    "  \"project_id\": \"data-analytics-micro-capstone\",\n",
    "  \"private_key_id\": \"\", # You'll need to copy/paste the private key ID from Practera into here\n",
    "  \"private_key\": \"\",  # You'll need to copy/paste the private key from Practera into here\n",
    "  \"client_email\": \"apiaccount@data-analytics-micro-capstone.iam.gserviceaccount.com\",\n",
    "  \"client_id\": \"109314424430670541071\",\n",
    "  \"auth_uri\": \"https://accounts.google.com/o/oauth2/auth\",\n",
    "  \"token_uri\": \"https://oauth2.googleapis.com/token\",\n",
    "  \"auth_provider_x509_cert_url\": \"https://www.googleapis.com/oauth2/v1/certs\",\n",
    "  \"client_x509_cert_url\": \"https://www.googleapis.com/robot/v1/metadata/x509/apiaccount%40data-analytics-micro-capstone.iam.gserviceaccount.com\"\n",
    "}\n",
    "\n",
    "sa = gspread.service_account_from_dict(credentials)\n"
   ]
  }
 ],
 "metadata": {
  "language_info": {
   "name": "python"
  },
  "orig_nbformat": 4
 },
 "nbformat": 4,
 "nbformat_minor": 2
}
